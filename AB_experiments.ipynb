{
 "cells": [
  {
   "cell_type": "markdown",
   "metadata": {},
   "source": [
    "# A/B experiments"
   ]
  },
  {
   "cell_type": "markdown",
   "metadata": {},
   "source": [
    "The project is a mini-platform designed for conducting AB experiments. \n",
    "It encompasses:\n",
    "* data retrieval from a database, computation of a key metric to assess the experiment's impact, \n",
    "* traffic splitting, \n",
    "* the evaluation of experiment outcomes."
   ]
  },
  {
   "cell_type": "markdown",
   "metadata": {},
   "source": [
    "## Contents\n",
    "\n",
    "[Data service](#tag1)\n",
    "\n",
    "[Traffic splitting](#tag2)\n",
    "\n",
    "[Experiments service](#tag3)\n",
    "\n",
    "[Experiments](#tag4)"
   ]
  },
  {
   "cell_type": "code",
   "execution_count": 95,
   "metadata": {},
   "outputs": [],
   "source": [
    "import pandas as pd\n",
    "import numpy as np\n",
    "import matplotlib.pyplot as plt\n",
    "import library_connections as lc\n",
    "from datetime import datetime\n",
    "from hashlib import md5\n",
    "import scipy.stats as stats"
   ]
  },
  {
   "cell_type": "markdown",
   "metadata": {},
   "source": [
    "## Data service<a id='tag1'></a>"
   ]
  },
  {
   "cell_type": "code",
   "execution_count": 96,
   "metadata": {},
   "outputs": [],
   "source": [
    "class DataService:\n",
    "\n",
    "    def __init__(self, metric, begin_date, end_date):\n",
    "        \"\"\"Class providing access to data.\n",
    "        \n",
    "        :param metric (str): Name of the metric for the experiment.\n",
    "        :param begin_date (datetime.datetime): Start date of the data interval.\n",
    "        :param end_date (datetime.datetime): End date of the data interval.\n",
    "        \"\"\"\n",
    "\n",
    "        self.metric = metric.lower()\n",
    "        self.begin_date = begin_date\n",
    "        self.end_date = end_date\n",
    "\n",
    "    def get_data(self):\n",
    "        \"\"\"Returns data from the database.\n",
    "\n",
    "        :return df (pd.DataFrame): DataFrame with a subset of data.\n",
    "        \"\"\"\n",
    "\n",
    "        if self.metric == 'revenue':\n",
    "            query = ''' \n",
    "                SELECT\n",
    "                    user_id,\n",
    "                    sum(amount) AS revenue\n",
    "                FROM payments\n",
    "                WHERE payment_date between %s AND %s\n",
    "                GROUP BY user_id;\n",
    "            '''\n",
    "        else:\n",
    "            raise ValueError(\"Tablename is incorrect\")\n",
    "\n",
    "        df = pd.read_sql(query, lc.create_postgres_uri(), params=(self.begin_date, self.end_date))\n",
    "\n",
    "        return df.copy()"
   ]
  },
  {
   "cell_type": "markdown",
   "metadata": {},
   "source": [
    "# Traffic splitting<a id='tag2'></a>"
   ]
  },
  {
   "cell_type": "code",
   "execution_count": 97,
   "metadata": {},
   "outputs": [],
   "source": [
    "class SplittingService:\n",
    "\n",
    "    def __init__(self, data_service):\n",
    "        \"\"\"Class for traffic splitting.\n",
    "\n",
    "        :param data_service (DataService): Object of the class providing access to data.\n",
    "        \"\"\"\n",
    "        self.data_service = data_service\n",
    "\n",
    "    def _get_dataset(self):\n",
    "        \"\"\"Returns the table with data.\"\"\"\n",
    "        return self.data_service.get_data()\n",
    "\n",
    "    def _get_bucket(self, value: str, n: int, salt: str=''):\n",
    "        \"\"\"Determines the bucket based on the id.\n",
    "\n",
    "        value - unique identifier of the object.\n",
    "        n - number of buckets.\n",
    "        salt - salt for shuffling.\n",
    "        \"\"\"\n",
    "        hash_value = int(md5((value + salt).encode()).hexdigest(), 16)\n",
    "        return hash_value % n\n",
    "\n",
    "    def split_traffic(self, n, salt=''):\n",
    "        \"\"\"Splits the traffic into buckets.\n",
    "\n",
    "        :param n (int): Number of buckets.\n",
    "        :param salt (str): Salt for shuffling.\n",
    "        :return res_df (pd.DataFrame): DataFrame with added 'bucket' column.\n",
    "        \"\"\"\n",
    "\n",
    "        res_df = self._get_dataset()\n",
    "\n",
    "        res_df['bucket'] = res_df['user_id'].apply(lambda x: self._get_bucket(str(x), n, salt))\n",
    "\n",
    "        return res_df.copy()\n"
   ]
  },
  {
   "cell_type": "code",
   "execution_count": 98,
   "metadata": {},
   "outputs": [],
   "source": [
    "class SplittingService:\n",
    "\n",
    "    def __init__(self, data_service):\n",
    "        \"\"\"Class for traffic splitting.\n",
    "\n",
    "        :param data_service (DataService): Object of the class providing access to data.\n",
    "        \"\"\"\n",
    "        self.data_service = data_service\n",
    "\n",
    "    def _get_dataset(self):\n",
    "        \"\"\"Returns the table with data.\"\"\"\n",
    "        return self.data_service.get_data()\n",
    "\n",
    "    def _get_bucket(self, value: str, n: int, salt: str=''):\n",
    "        \"\"\"Determines the bucket based on the id.\n",
    "\n",
    "        value - unique identifier of the object.\n",
    "        n - number of buckets.\n",
    "        salt - salt for shuffling.\n",
    "        \"\"\"\n",
    "        hash_value = int(md5((value + salt).encode()).hexdigest(), 16)\n",
    "        return hash_value % n\n",
    "\n",
    "    def split_traffic(self, n, salt=''):\n",
    "        \"\"\"Splits the traffic into buckets.\n",
    "\n",
    "        :param n (int): Number of buckets.\n",
    "        :param salt (str): Salt for shuffling.\n",
    "        :return res_df (pd.DataFrame): DataFrame with added 'bucket' column.\n",
    "        \"\"\"\n",
    "\n",
    "        res_df = self._get_dataset()\n",
    "\n",
    "        res_df['bucket'] = res_df['user_id'].apply(lambda x: self._get_bucket(str(x), n, salt))\n",
    "\n",
    "        return res_df.copy()"
   ]
  },
  {
   "cell_type": "markdown",
   "metadata": {},
   "source": [
    "# Experiments service<a id='tag3'></a>"
   ]
  },
  {
   "cell_type": "code",
   "execution_count": 99,
   "metadata": {},
   "outputs": [],
   "source": [
    "class ExperimentsService:\n",
    "\n",
    "    def __init__(self, alpha):\n",
    "        \"\"\"Class for evaluating the experiment results.\n",
    "\n",
    "        :param alpha (float): Significance level for hypothesis testing.\n",
    "        \"\"\"\n",
    "        self.alpha = alpha\n",
    "\n",
    "    def _get_dataset(self, data_service):\n",
    "        \"\"\"Returns the table with data split into groups.\n",
    "\n",
    "        :param data_service (DataService): Object of the class providing access to data.\n",
    "        :return metrics_a_group (pd.Series): Metrics values of group A.\n",
    "        :return metrics_b_group (pd.Series): Metrics values of group B.\n",
    "        \"\"\"\n",
    "\n",
    "        splitting_service = SplittingService(data_service)\n",
    "\n",
    "        df_split = splitting_service.split_traffic(2, salt='zdtQsc')\n",
    "\n",
    "        metrics_a_group = df_split[df_split['bucket']==0][data_service.metric]\n",
    "        metrics_b_group = df_split[df_split['bucket']==1][data_service.metric]\n",
    "\n",
    "        return metrics_a_group, metrics_b_group\n",
    "\n",
    "    def get_conclusion(self, data_service):\n",
    "        \"\"\"Applies statistical test, returns p-value and provides conclusion.\n",
    "\n",
    "        :param data_service (DataService): Object of the class providing access to data.\n",
    "        \"\"\"\n",
    "        \n",
    "        metrics_a_group, metrics_b_group = self._get_dataset(data_service)\n",
    "\n",
    "        if data_service.metric == 'revenue': \n",
    "\n",
    "            _, pvalue = stats.ttest_ind(metrics_a_group, metrics_b_group)\n",
    "\n",
    "        else:\n",
    "            raise ValueError(\"Metric is incorrect\")\n",
    "\n",
    "        if pvalue <= self.alpha:\n",
    "            \n",
    "            conclusion = f'''The test results indicate that there is no statistically significant difference in {data_service.metric} between the old and new variants (p-value = {pvalue}). \n",
    "The significance level of {self.alpha} is not reached, meaning that we cannot reject the null hypothesis of no differences between the variants.\n",
    "\n",
    "Based on these results, we do not recommend implementing the new variant as we lack sufficient evidence of its superiority over the old one.'''\n",
    "\n",
    "        else: \n",
    "\n",
    "            conclusion = f'''The test results suggest a statistically significant difference in {data_service.metric} between the old and new variants (p-value = {pvalue}). \n",
    "The significance level of {self.alpha} is reached, allowing us to reject the null hypothesis. This implies that there is evidence of a significant difference between the variants.\n",
    "\n",
    "Based on these results, we recommend considering the implementation of the new variant, as it has shown a statistically significant improvement over the old one in terms of {data_service.metric}.'''\n",
    "\n",
    "        print(conclusion)"
   ]
  },
  {
   "cell_type": "markdown",
   "metadata": {},
   "source": [
    "# Experiments<a id='tag4'></a>"
   ]
  },
  {
   "cell_type": "code",
   "execution_count": 100,
   "metadata": {},
   "outputs": [
    {
     "name": "stdout",
     "output_type": "stream",
     "text": [
      "The test results indicate that there is no statistically significant difference in revenue between the old and new variants (p-value = 0.022654341703024897). \n",
      "The significance level of 0.05 is not reached, meaning that we cannot reject the null hypothesis of no differences between the variants.\n",
      "\n",
      "Based on these results, we do not recommend implementing the new variant as we lack sufficient evidence of its superiority over the old one.\n"
     ]
    }
   ],
   "source": [
    "data_service = DataService('revenue', datetime(2019, 2, 4), datetime(2019, 2, 17))\n",
    "experiments_service = ExperimentsService(0.05)\n",
    "experiments_service.get_conclusion(data_service)"
   ]
  }
 ],
 "metadata": {
  "kernelspec": {
   "display_name": "Python 3",
   "language": "python",
   "name": "python3"
  },
  "language_info": {
   "codemirror_mode": {
    "name": "ipython",
    "version": 3
   },
   "file_extension": ".py",
   "mimetype": "text/x-python",
   "name": "python",
   "nbconvert_exporter": "python",
   "pygments_lexer": "ipython3",
   "version": "3.11.4"
  }
 },
 "nbformat": 4,
 "nbformat_minor": 2
}
